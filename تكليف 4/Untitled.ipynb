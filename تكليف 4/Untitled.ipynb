{
 "cells": [
  {
   "cell_type": "code",
   "execution_count": null,
   "id": "b1c4ea31",
   "metadata": {},
   "outputs": [],
   "source": [
    "import pandas as pd"
   ]
  },
  {
   "cell_type": "code",
   "execution_count": null,
   "id": "50503359",
   "metadata": {},
   "outputs": [],
   "source": [
    "df= pd.read_csv(\"three.csv\")"
   ]
  },
  {
   "cell_type": "code",
   "execution_count": null,
   "id": "172ae947",
   "metadata": {},
   "outputs": [],
   "source": [
    "df.head()"
   ]
  },
  {
   "cell_type": "code",
   "execution_count": 6,
   "id": "973b87c6",
   "metadata": {},
   "outputs": [
    {
     "data": {
      "text/plain": [
       "(74682, 4)"
      ]
     },
     "execution_count": 6,
     "metadata": {},
     "output_type": "execute_result"
    }
   ],
   "source": [
    "df.shape"
   ]
  },
  {
   "cell_type": "code",
   "execution_count": 6,
   "id": "0a098b72",
   "metadata": {},
   "outputs": [
    {
     "data": {
      "text/plain": [
       "num         0\n",
       "name        0\n",
       "label       0\n",
       "review    686\n",
       "dtype: int64"
      ]
     },
     "execution_count": 6,
     "metadata": {},
     "output_type": "execute_result"
    }
   ],
   "source": [
    "df.isnull().sum()"
   ]
  },
  {
   "cell_type": "code",
   "execution_count": 8,
   "id": "616f86e4",
   "metadata": {},
   "outputs": [],
   "source": [
    "df=df.dropna()"
   ]
  },
  {
   "cell_type": "code",
   "execution_count": 9,
   "id": "197638b1",
   "metadata": {},
   "outputs": [
    {
     "data": {
      "text/plain": [
       "(73996, 4)"
      ]
     },
     "execution_count": 9,
     "metadata": {},
     "output_type": "execute_result"
    }
   ],
   "source": [
    "df.shape"
   ]
  },
  {
   "cell_type": "code",
   "execution_count": 10,
   "id": "af34aae0",
   "metadata": {},
   "outputs": [],
   "source": [
    "x=df['label']\n",
    "y=df['review']"
   ]
  },
  {
   "cell_type": "code",
   "execution_count": 11,
   "id": "cc64707d",
   "metadata": {},
   "outputs": [],
   "source": [
    "from sklearn.model_selection import train_test_split"
   ]
  },
  {
   "cell_type": "code",
   "execution_count": 12,
   "id": "823413ac",
   "metadata": {},
   "outputs": [],
   "source": [
    "x_train,x_test,y_train,y_test=train_test_split(x,y,test_size=0.3)"
   ]
  },
  {
   "cell_type": "code",
   "execution_count": 13,
   "id": "23b5f846",
   "metadata": {},
   "outputs": [
    {
     "data": {
      "text/plain": [
       "59452       Neutral\n",
       "52868       Neutral\n",
       "56086    Irrelevant\n",
       "30039       Neutral\n",
       "64731       Neutral\n",
       "            ...    \n",
       "1021       Positive\n",
       "72001       Neutral\n",
       "5063     Irrelevant\n",
       "45414       Neutral\n",
       "16354      Positive\n",
       "Name: label, Length: 51797, dtype: object"
      ]
     },
     "execution_count": 13,
     "metadata": {},
     "output_type": "execute_result"
    }
   ],
   "source": [
    "x_train"
   ]
  },
  {
   "cell_type": "code",
   "execution_count": 14,
   "id": "4ecdb9d9",
   "metadata": {},
   "outputs": [
    {
     "data": {
      "text/plain": [
       "62768      Negative\n",
       "4339     Irrelevant\n",
       "833        Positive\n",
       "10636    Irrelevant\n",
       "67319      Negative\n",
       "            ...    \n",
       "40137      Negative\n",
       "18974      Positive\n",
       "32200      Positive\n",
       "58522    Irrelevant\n",
       "30546      Negative\n",
       "Name: label, Length: 22199, dtype: object"
      ]
     },
     "execution_count": 14,
     "metadata": {},
     "output_type": "execute_result"
    }
   ],
   "source": [
    "x_test"
   ]
  },
  {
   "cell_type": "code",
   "execution_count": 15,
   "id": "3eccd78a",
   "metadata": {},
   "outputs": [],
   "source": [
    "from sklearn.feature_extraction.text import TfidfVectorizer\n",
    "from sklearn.pipeline import Pipeline\n",
    "from sklearn.naive_bayes import MultinomialNB\n",
    "from sklearn.svm import LinearSVC"
   ]
  },
  {
   "cell_type": "code",
   "execution_count": 16,
   "id": "7b4dc87d",
   "metadata": {},
   "outputs": [],
   "source": [
    "nv_classfier = Pipeline([('tfidf',TfidfVectorizer()),('naive_bayes',MultinomialNB())])\n",
    "svm_classfier = Pipeline([('tfidf',TfidfVectorizer()),('svm',LinearSVC())])"
   ]
  },
  {
   "cell_type": "code",
   "execution_count": 17,
   "id": "2d34c3f1",
   "metadata": {},
   "outputs": [],
   "source": [
    "from sklearn.metrics import accuracy_score"
   ]
  },
  {
   "cell_type": "markdown",
   "id": "9ca07f8d",
   "metadata": {},
   "source": [
    "##Naive Bayes"
   ]
  },
  {
   "cell_type": "code",
   "execution_count": null,
   "id": "8143afbf",
   "metadata": {},
   "outputs": [],
   "source": [
    "nv_classfier.fit(x_train,y_train)"
   ]
  },
  {
   "cell_type": "code",
   "execution_count": null,
   "id": "83bf7ccc",
   "metadata": {},
   "outputs": [],
   "source": [
    "predi = nv_classfier.predict(x_test)"
   ]
  },
  {
   "cell_type": "code",
   "execution_count": null,
   "id": "8ac83d1b",
   "metadata": {},
   "outputs": [],
   "source": [
    "accuracy_score(y_test,predi)"
   ]
  },
  {
   "cell_type": "code",
   "execution_count": null,
   "id": "225807ff",
   "metadata": {},
   "outputs": [],
   "source": []
  }
 ],
 "metadata": {
  "kernelspec": {
   "display_name": "Python 3",
   "language": "python",
   "name": "python3"
  },
  "language_info": {
   "codemirror_mode": {
    "name": "ipython",
    "version": 3
   },
   "file_extension": ".py",
   "mimetype": "text/x-python",
   "name": "python",
   "nbconvert_exporter": "python",
   "pygments_lexer": "ipython3",
   "version": "3.8.8"
  }
 },
 "nbformat": 4,
 "nbformat_minor": 5
}
