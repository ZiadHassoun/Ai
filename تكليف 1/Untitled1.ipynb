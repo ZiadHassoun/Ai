{
 "cells": [
  {
   "cell_type": "code",
   "execution_count": 1,
   "id": "c85278db",
   "metadata": {},
   "outputs": [],
   "source": [
    "import pandas as pd"
   ]
  },
  {
   "cell_type": "code",
   "execution_count": 2,
   "id": "d0ecf8bc",
   "metadata": {},
   "outputs": [],
   "source": [
    "data = pd.read_csv(\"MetaData.csv\")"
   ]
  },
  {
   "cell_type": "code",
   "execution_count": 3,
   "id": "d22b4ae5",
   "metadata": {},
   "outputs": [
    {
     "data": {
      "text/html": [
       "<div>\n",
       "<style scoped>\n",
       "    .dataframe tbody tr th:only-of-type {\n",
       "        vertical-align: middle;\n",
       "    }\n",
       "\n",
       "    .dataframe tbody tr th {\n",
       "        vertical-align: top;\n",
       "    }\n",
       "\n",
       "    .dataframe thead th {\n",
       "        text-align: right;\n",
       "    }\n",
       "</style>\n",
       "<table border=\"1\" class=\"dataframe\">\n",
       "  <thead>\n",
       "    <tr style=\"text-align: right;\">\n",
       "      <th></th>\n",
       "      <th>id</th>\n",
       "      <th>gender</th>\n",
       "      <th>age</th>\n",
       "      <th>county</th>\n",
       "      <th>ptb</th>\n",
       "      <th>remarks</th>\n",
       "    </tr>\n",
       "  </thead>\n",
       "  <tbody>\n",
       "    <tr>\n",
       "      <th>0</th>\n",
       "      <td>1000</td>\n",
       "      <td>male</td>\n",
       "      <td>31</td>\n",
       "      <td>Shenxhen</td>\n",
       "      <td>0</td>\n",
       "      <td>normal</td>\n",
       "    </tr>\n",
       "    <tr>\n",
       "      <th>1</th>\n",
       "      <td>1001</td>\n",
       "      <td>male</td>\n",
       "      <td>64</td>\n",
       "      <td>Shenxhen</td>\n",
       "      <td>0</td>\n",
       "      <td>normal</td>\n",
       "    </tr>\n",
       "    <tr>\n",
       "      <th>2</th>\n",
       "      <td>1002</td>\n",
       "      <td>male</td>\n",
       "      <td>35</td>\n",
       "      <td>Shenxhen</td>\n",
       "      <td>0</td>\n",
       "      <td>normal</td>\n",
       "    </tr>\n",
       "    <tr>\n",
       "      <th>3</th>\n",
       "      <td>1003</td>\n",
       "      <td>male</td>\n",
       "      <td>32</td>\n",
       "      <td>Shenxhen</td>\n",
       "      <td>1</td>\n",
       "      <td>STB,ATB,tuberculosis pleuritis</td>\n",
       "    </tr>\n",
       "    <tr>\n",
       "      <th>4</th>\n",
       "      <td>1004</td>\n",
       "      <td>male</td>\n",
       "      <td>2</td>\n",
       "      <td>Shenxhen</td>\n",
       "      <td>1</td>\n",
       "      <td>secondary PTB  in the bilateral upper field</td>\n",
       "    </tr>\n",
       "  </tbody>\n",
       "</table>\n",
       "</div>"
      ],
      "text/plain": [
       "     id gender age    county  ptb                                      remarks\n",
       "0  1000   male  31  Shenxhen    0                                       normal\n",
       "1  1001   male  64  Shenxhen    0                                       normal\n",
       "2  1002   male  35  Shenxhen    0                                       normal\n",
       "3  1003   male  32  Shenxhen    1               STB,ATB,tuberculosis pleuritis\n",
       "4  1004   male   2  Shenxhen    1  secondary PTB  in the bilateral upper field"
      ]
     },
     "execution_count": 3,
     "metadata": {},
     "output_type": "execute_result"
    }
   ],
   "source": [
    "data.head()"
   ]
  },
  {
   "cell_type": "code",
   "execution_count": 6,
   "id": "2134a711",
   "metadata": {},
   "outputs": [
    {
     "data": {
      "text/plain": [
       "'31'"
      ]
     },
     "execution_count": 6,
     "metadata": {},
     "output_type": "execute_result"
    }
   ],
   "source": [
    "data.iloc[0,2]"
   ]
  },
  {
   "cell_type": "code",
   "execution_count": 8,
   "id": "45bc79cd",
   "metadata": {},
   "outputs": [
    {
     "data": {
      "text/plain": [
       "'31'"
      ]
     },
     "execution_count": 8,
     "metadata": {},
     "output_type": "execute_result"
    }
   ],
   "source": [
    "data.loc[0,'age']"
   ]
  },
  {
   "cell_type": "code",
   "execution_count": 10,
   "id": "83aa655a",
   "metadata": {},
   "outputs": [
    {
     "name": "stdout",
     "output_type": "stream",
     "text": [
      "      ptb\n",
      "id       \n",
      "1000    0\n",
      "1001    0\n",
      "1002    0\n",
      "1003    1\n",
      "1004    1\n",
      "...   ...\n",
      "1699    1\n",
      "1700    0\n",
      "1701    0\n",
      "1702    1\n",
      "1703    0\n",
      "\n",
      "[704 rows x 1 columns]\n",
      "     gender  age      county  ptb  \\\n",
      "id                                  \n",
      "1000   male   31    Shenxhen    0   \n",
      "1001   male   64    Shenxhen    0   \n",
      "1002   male   35    Shenxhen    0   \n",
      "1003   male   32    Shenxhen    1   \n",
      "1004   male    2    Shenxhen    1   \n",
      "...     ...  ...         ...  ...   \n",
      "1699      M  047  Montgomery    1   \n",
      "1700      F  030  Montgomery    0   \n",
      "1701      F  044  Montgomery    0   \n",
      "1702      F  030  Montgomery    1   \n",
      "1703      F  045  Montgomery    0   \n",
      "\n",
      "                                                remarks  \n",
      "id                                                       \n",
      "1000                                             normal  \n",
      "1001                                             normal  \n",
      "1002                                             normal  \n",
      "1003                     STB,ATB,tuberculosis pleuritis  \n",
      "1004        secondary PTB  in the bilateral upper field  \n",
      "...                                                 ...  \n",
      "1699  persistent rt pleural peel with some interval ...  \n",
      "1700                                             normal  \n",
      "1701                                             normal  \n",
      "1702  left pleural effusion; best seen on lateral vi...  \n",
      "1703                                             normal  \n",
      "\n",
      "[704 rows x 5 columns]\n"
     ]
    }
   ],
   "source": [
    "grouped = data.groupby(['id'])\n",
    "print(grouped.mean())\n",
    "print(grouped.max())"
   ]
  },
  {
   "cell_type": "code",
   "execution_count": null,
   "id": "e69443ea",
   "metadata": {},
   "outputs": [],
   "source": []
  }
 ],
 "metadata": {
  "kernelspec": {
   "display_name": "Python 3",
   "language": "python",
   "name": "python3"
  },
  "language_info": {
   "codemirror_mode": {
    "name": "ipython",
    "version": 3
   },
   "file_extension": ".py",
   "mimetype": "text/x-python",
   "name": "python",
   "nbconvert_exporter": "python",
   "pygments_lexer": "ipython3",
   "version": "3.8.8"
  }
 },
 "nbformat": 4,
 "nbformat_minor": 5
}
